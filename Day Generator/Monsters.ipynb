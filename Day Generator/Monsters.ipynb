{
 "cells": [
  {
   "cell_type": "code",
   "execution_count": 2,
   "metadata": {},
   "outputs": [
    {
     "name": "stdout",
     "output_type": "stream",
     "text": [
      "200\n"
     ]
    }
   ],
   "source": [
    "import pandas as pd\n",
    "import requests\n",
    "import json\n",
    "# https://www.dnd5eapi.co/api/monsters/\n",
    "\n",
    "response_API = requests.get('https://api.open5e.com/monsters/')\n",
    "print(response_API.status_code)\n",
    "\n",
    "json= response_API.json()\n",
    "# print(json.keys())\n",
    "\n",
    "monstersdf = pd.DataFrame(json['results'])"
   ]
  },
  {
   "cell_type": "code",
   "execution_count": 8,
   "metadata": {},
   "outputs": [
    {
     "name": "stdout",
     "output_type": "stream",
     "text": [
      "200\n",
      "dict_keys(['count', 'next', 'previous', 'results'])\n",
      "1\n"
     ]
    }
   ],
   "source": [
    "response_API = requests.get('https://api.open5e.com/planes/')\n",
    "print(response_API.status_code)\n",
    "\n",
    "json= response_API.json()\n",
    "print(json.keys())\n",
    "print(json['count'])\n",
    "planesdf = pd.DataFrame(json['results'])\n"
   ]
  }
 ],
 "metadata": {
  "interpreter": {
   "hash": "570feb405e2e27c949193ac68f46852414290d515b0ba6e5d90d076ed2284471"
  },
  "kernelspec": {
   "display_name": "Python 3.8.8 64-bit",
   "language": "python",
   "name": "python3"
  },
  "language_info": {
   "codemirror_mode": {
    "name": "ipython",
    "version": 3
   },
   "file_extension": ".py",
   "mimetype": "text/x-python",
   "name": "python",
   "nbconvert_exporter": "python",
   "pygments_lexer": "ipython3",
   "version": "3.8.8"
  },
  "orig_nbformat": 4
 },
 "nbformat": 4,
 "nbformat_minor": 2
}
