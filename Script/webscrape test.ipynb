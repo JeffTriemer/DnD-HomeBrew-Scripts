{
 "cells": [
  {
   "cell_type": "code",
   "execution_count": 7,
   "metadata": {},
   "outputs": [
    {
     "name": "stderr",
     "output_type": "stream",
     "text": [
      "C:\\Users\\622379\\AppData\\Local\\Temp\\1\\ipykernel_9784\\3646630208.py:12: DeprecationWarning: executable_path has been deprecated, please pass in a Service object\n",
      "  dr = webdriver.Chrome(r'C:\\Users\\622379\\Desktop\\selenium\\chromedriver.exe')\n",
      "C:\\Users\\622379\\AppData\\Local\\Temp\\1\\ipykernel_9784\\3646630208.py:19: DeprecationWarning: find_element_by_xpath is deprecated. Please use find_element(by=By.XPATH, value=xpath) instead\n",
      "  category= dr.find_element_by_xpath(f'//*[@id=\"post-7845\"]/div/div/article/div[1]/h3[{x}]')\n",
      "C:\\Users\\622379\\AppData\\Local\\Temp\\1\\ipykernel_9784\\3646630208.py:26: DeprecationWarning: find_element_by_xpath is deprecated. Please use find_element(by=By.XPATH, value=xpath) instead\n",
      "  role = dr.find_element_by_xpath(f'//*[@id=\"post-7845\"]/div/div/article/div[1]/ol[{x}]/li[{y}]')\n"
     ]
    },
    {
     "name": "stdout",
     "output_type": "stream",
     "text": [
      "I. AGRICULTURE, ANIMAL HUSBANDRY, & FORESTRY\n",
      "ERROR OCCURRED\n",
      "II. ARCHITECTURE & CONSTRUCTION\n",
      "ERROR OCCURRED\n",
      "III. ARTS, the\n",
      "ERROR OCCURRED\n",
      "IV. BUSINESS & TRADE\n",
      "ERROR OCCURRED\n",
      "V. COMMUNICATIONS\n",
      "ERROR OCCURRED\n",
      "VI. CRAFTSMANSHIP\n",
      "ERROR OCCURRED\n",
      "VII. CRIME\n",
      "ERROR OCCURRED\n",
      "VIII. GOVERNMENT & LAW\n",
      "ERROR OCCURRED\n",
      "IX. HOSPITALITY & COMMON LABOR\n",
      "ERROR OCCURRED\n",
      "X. MAGICAL ARTS, the\n",
      "ERROR OCCURRED\n",
      "XI. MILITARY & SECURITY\n",
      "ERROR OCCURRED\n",
      "XII. RELIGION\n",
      "ERROR OCCURRED\n",
      "XIII. SCIENCE, MATH, & EDUCATION\n",
      "ERROR OCCURRED\n",
      "XIV. TRANSPORTATION\n",
      "ERROR OCCURRED\n",
      "XV. UNEMPLOYED, SELF-EMPLOYED, & OUTCAST\n",
      "ERROR OCCURRED\n"
     ]
    }
   ],
   "source": [
    "from selenium import webdriver\n",
    "import time\n",
    "from selenium.webdriver.support.ui import Select\n",
    "import pandas as pd\n",
    "global cats\n",
    "global roles\n",
    "global descs\n",
    "descs=[]\n",
    "cats=[]\n",
    "roles=[]\n",
    "\n",
    "dr = webdriver.Chrome(r'C:\\Users\\622379\\Desktop\\selenium\\chromedriver.exe')\n",
    "\n",
    "dr.get('https://www.dndtomb.com/massive-list-of-dd-professions-for-npcs-or-random-town-encounters/')\n",
    "time.sleep(5)\n",
    "\n",
    "x=1\n",
    "for each in range(15):\n",
    "    category= dr.find_element_by_xpath(f'//*[@id=\"post-7845\"]/div/div/article/div[1]/h3[{x}]')\n",
    "    print(category.text)\n",
    "    children=category.find_elements_by_tag_name(\"li\")\n",
    "    category=category.text\n",
    "    y=1\n",
    "    try:\n",
    "        for each in range(100):\n",
    "            role = dr.find_element_by_xpath(f'//*[@id=\"post-7845\"]/div/div/article/div[1]/ol[{x}]/li[{y}]')\n",
    "            role = role.text\n",
    "            # print(role.find('–'))    \n",
    "        \n",
    "            if role.find('–') == -1:\n",
    "                role = role.split(':')\n",
    "            else:\n",
    "                role = role.split('–')\n",
    "\n",
    "            Role = role[0]\n",
    "            desc = role[1][1:]\n",
    "            # print(Role)\n",
    "            # print(desc)\n",
    "            Role.replace(\" \", \"\")\n",
    "            cats.append(category)\n",
    "            roles.append(Role)\n",
    "            descs.append(desc)\n",
    "            y+=1\n",
    "    except:\n",
    "        print('ERROR OCCURRED')\n",
    "    x+=1\n",
    "\n",
    "table = pd.DataFrame({'Category':cats,'Role':roles, 'Description': descs})\n",
    "\n",
    "table\n",
    "\n",
    "dr.quit()"
   ]
  },
  {
   "cell_type": "code",
   "execution_count": 8,
   "metadata": {},
   "outputs": [],
   "source": [
    "table\n",
    "\n",
    "table.to_csv(r'C:\\Users\\622379\\Documents\\Python\\Homebrew\\TownRoles.csv', index=False)"
   ]
  }
 ],
 "metadata": {
  "interpreter": {
   "hash": "1baa965d5efe3ac65b79dfc60c0d706280b1da80fedb7760faf2759126c4f253"
  },
  "kernelspec": {
   "display_name": "Python 3.8.8 64-bit",
   "language": "python",
   "name": "python3"
  },
  "language_info": {
   "codemirror_mode": {
    "name": "ipython",
    "version": 3
   },
   "file_extension": ".py",
   "mimetype": "text/x-python",
   "name": "python",
   "nbconvert_exporter": "python",
   "pygments_lexer": "ipython3",
   "version": "3.8.8"
  },
  "orig_nbformat": 4
 },
 "nbformat": 4,
 "nbformat_minor": 2
}
